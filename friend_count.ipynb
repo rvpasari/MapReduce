{
 "cells": [
  {
   "cell_type": "code",
   "execution_count": 6,
   "metadata": {
    "collapsed": false
   },
   "outputs": [
    {
     "name": "stdout",
     "output_type": "stream",
     "text": [
      "[\"MlleBaptistine\", 3]\n",
      "[\"Fantine\", 1]\n",
      "[\"Cosette\", 1]\n",
      "[\"Babet\", 1]\n",
      "[\"Valjean\", 18]\n",
      "[\"MmeMagloire\", 3]\n",
      "[\"Champtercier\", 2]\n",
      "[\"Labarre\", 1]\n",
      "[\"Montparnasse\", 1]\n",
      "[\"Judge\", 1]\n",
      "[\"Napoleon\", 1]\n",
      "[\"Count\", 1]\n",
      "[\"Isabeau\", 1]\n",
      "[\"Woman1\", 1]\n",
      "[\"Woman2\", 1]\n",
      "[\"Simplice\", 1]\n",
      "[\"Geborand\", 1]\n",
      "[\"Gillenormand\", 1]\n",
      "[\"Marguerite\", 1]\n",
      "[\"Myriel\", 10]\n",
      "[\"OldMan\", 1]\n",
      "[\"MmeDeR\", 1]\n",
      "[\"MlleGillenormand\", 1]\n"
     ]
    }
   ],
   "source": [
    "import MapReduce\n",
    "import sys\n",
    "import json\n",
    "\n",
    "mr = MapReduce.MapReduce()\n",
    "\n",
    "def mapper(record):\n",
    "    friend1 = record[0]\n",
    "    friend2 = record[1] \n",
    "    #print (friend1, friend2)\n",
    "    mr.emit_intermediate(friend1, 1)\n",
    "    mr.emit_intermediate(friend2, 1)\n",
    "        \n",
    "def reducer(key, values): \n",
    "    total = 0 \n",
    "    for value in values: \n",
    "        total += value\n",
    "    mr.emit((key, total))\n",
    "\n",
    "inputdata = open('friends.json')\n",
    "mr.execute(inputdata,mapper,reducer)"
   ]
  },
  {
   "cell_type": "code",
   "execution_count": null,
   "metadata": {
    "collapsed": true
   },
   "outputs": [],
   "source": []
  }
 ],
 "metadata": {
  "kernelspec": {
   "display_name": "Python 2",
   "language": "python",
   "name": "python2"
  },
  "language_info": {
   "codemirror_mode": {
    "name": "ipython",
    "version": 2
   },
   "file_extension": ".py",
   "mimetype": "text/x-python",
   "name": "python",
   "nbconvert_exporter": "python",
   "pygments_lexer": "ipython2",
   "version": "2.7.11"
  }
 },
 "nbformat": 4,
 "nbformat_minor": 0
}
